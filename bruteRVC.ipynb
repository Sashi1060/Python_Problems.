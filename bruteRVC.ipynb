{
 "cells": [
  {
   "cell_type": "code",
   "execution_count": 10,
   "metadata": {},
   "outputs": [
    {
     "name": "stdout",
     "output_type": "stream",
     "text": [
      "Encrypted: RIjVS\n",
      "Decrypted: HELLO\n"
     ]
    }
   ],
   "source": [
    "CHARACTERS = 'ABCDEFGHIJKLMNOPQRSTUVWXYZabcdefghijklmnopqrstuvwxyz0123456789!@#$%^&*()'\n",
    "CHAR_TO_NUM = {char: i for i, char in enumerate(CHARACTERS)}\n",
    "NUM_TO_CHAR = {i: char for i, char in enumerate(CHARACTERS)}\n",
    "\n",
    "def encrypt(plain_text: str, key: str) -> str:\n",
    "    extended_key = (key * ((len(plain_text) // len(key)) + 1))[:len(plain_text)]\n",
    "    encrypted_text = ''\n",
    "    for i, char in enumerate(plain_text):\n",
    "        encrypted_text += NUM_TO_CHAR[(CHAR_TO_NUM[char] + CHAR_TO_NUM[extended_key[i]]) % len(CHAR_TO_NUM)] if char in CHAR_TO_NUM else char\n",
    "    return encrypted_text\n",
    "\n",
    "def decrypt(encrypted_text: str, key: str) -> str:\n",
    "    extended_key = (key * ((len(encrypted_text) // len(key)) + 1))[:len(encrypted_text)]\n",
    "    decrypted_text = ''\n",
    "    for i, char in enumerate(encrypted_text):\n",
    "        decrypted_text += NUM_TO_CHAR[(CHAR_TO_NUM[char] - CHAR_TO_NUM[extended_key[i]]) % len(CHAR_TO_NUM)] if char in CHAR_TO_NUM else char\n",
    "    return decrypted_text\n",
    "\n",
    "plain_text = input(\"Enter the plaintext: \")\n",
    "key = input(\"Enter the key: \")\n",
    "\n",
    "if all(char in CHARACTERS for char in key):\n",
    "    encrypted = encrypt(plain_text, key)\n",
    "    print(f\"Encrypted: {encrypted}\")\n",
    "    decrypted = decrypt(encrypted, key)\n",
    "    print(f\"Decrypted: {decrypted}\")\n",
    "else:\n",
    "    print(\"Invalid key. Please use only characters in the defined set.\")\n"
   ]
  },
  {
   "cell_type": "code",
   "execution_count": 15,
   "metadata": {},
   "outputs": [
    {
     "name": "stdout",
     "output_type": "stream",
     "text": [
      "18\n"
     ]
    }
   ],
   "source": [
    "print(18 % 26)"
   ]
  },
  {
   "cell_type": "code",
   "execution_count": null,
   "metadata": {},
   "outputs": [],
   "source": []
  }
 ],
 "metadata": {
  "kernelspec": {
   "display_name": "Python 3",
   "language": "python",
   "name": "python3"
  },
  "language_info": {
   "codemirror_mode": {
    "name": "ipython",
    "version": 3
   },
   "file_extension": ".py",
   "mimetype": "text/x-python",
   "name": "python",
   "nbconvert_exporter": "python",
   "pygments_lexer": "ipython3",
   "version": "3.12.2"
  }
 },
 "nbformat": 4,
 "nbformat_minor": 2
}
